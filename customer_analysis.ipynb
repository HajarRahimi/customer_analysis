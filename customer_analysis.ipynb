{
 "cells": [
  {
   "cell_type": "markdown",
   "metadata": {},
   "source": [
    "# Add libraries"
   ]
  },
  {
   "cell_type": "code",
   "execution_count": 1,
   "metadata": {},
   "outputs": [],
   "source": [
    "import pandas as pd\n",
    "import seaborn as sn"
   ]
  },
  {
   "cell_type": "markdown",
   "metadata": {},
   "source": [
    "# Import data"
   ]
  },
  {
   "cell_type": "code",
   "execution_count": 16,
   "metadata": {},
   "outputs": [],
   "source": [
    "customer = pd.read_csv('D:/customer_analysis/customer_analysis/raw_data/marketing_campaign.csv', sep=\"\\t\")"
   ]
  },
  {
   "cell_type": "markdown",
   "metadata": {},
   "source": [
    "# Data Exploration"
   ]
  },
  {
   "cell_type": "markdown",
   "metadata": {},
   "source": [
    "## Basic information"
   ]
  },
  {
   "cell_type": "markdown",
   "metadata": {},
   "source": [
    "### Head and Tail"
   ]
  },
  {
   "cell_type": "code",
   "execution_count": 85,
   "metadata": {},
   "outputs": [
    {
     "data": {
      "text/html": [
       "<style type=\"text/css\">\n",
       "#T_fb7b5_row0_col0 {\n",
       "  background-color: #046198;\n",
       "  color: #f1f1f1;\n",
       "}\n",
       "#T_fb7b5_row0_col1, #T_fb7b5_row1_col17 {\n",
       "  background-color: #f0eaf4;\n",
       "  color: #000000;\n",
       "}\n",
       "#T_fb7b5_row0_col4 {\n",
       "  background-color: #187cb6;\n",
       "  color: #f1f1f1;\n",
       "}\n",
       "#T_fb7b5_row0_col5, #T_fb7b5_row0_col6, #T_fb7b5_row0_col20, #T_fb7b5_row0_col21, #T_fb7b5_row0_col22, #T_fb7b5_row0_col23, #T_fb7b5_row0_col24, #T_fb7b5_row0_col25, #T_fb7b5_row0_col26, #T_fb7b5_row0_col27, #T_fb7b5_row0_col29, #T_fb7b5_row1_col0, #T_fb7b5_row1_col1, #T_fb7b5_row1_col9, #T_fb7b5_row1_col10, #T_fb7b5_row1_col11, #T_fb7b5_row1_col12, #T_fb7b5_row1_col13, #T_fb7b5_row1_col16, #T_fb7b5_row1_col18, #T_fb7b5_row1_col20, #T_fb7b5_row1_col21, #T_fb7b5_row1_col22, #T_fb7b5_row1_col23, #T_fb7b5_row1_col24, #T_fb7b5_row1_col25, #T_fb7b5_row1_col26, #T_fb7b5_row1_col27, #T_fb7b5_row1_col28, #T_fb7b5_row2_col5, #T_fb7b5_row2_col6, #T_fb7b5_row2_col8, #T_fb7b5_row2_col15, #T_fb7b5_row2_col19, #T_fb7b5_row2_col20, #T_fb7b5_row2_col21, #T_fb7b5_row2_col22, #T_fb7b5_row2_col23, #T_fb7b5_row2_col24, #T_fb7b5_row2_col25, #T_fb7b5_row2_col26, #T_fb7b5_row2_col27, #T_fb7b5_row2_col28, #T_fb7b5_row2_col29, #T_fb7b5_row3_col4, #T_fb7b5_row3_col6, #T_fb7b5_row3_col8, #T_fb7b5_row3_col9, #T_fb7b5_row3_col14, #T_fb7b5_row3_col17, #T_fb7b5_row3_col20, #T_fb7b5_row3_col21, #T_fb7b5_row3_col22, #T_fb7b5_row3_col23, #T_fb7b5_row3_col24, #T_fb7b5_row3_col25, #T_fb7b5_row3_col26, #T_fb7b5_row3_col27, #T_fb7b5_row3_col28, #T_fb7b5_row4_col6, #T_fb7b5_row4_col20, #T_fb7b5_row4_col21, #T_fb7b5_row4_col22, #T_fb7b5_row4_col23, #T_fb7b5_row4_col24, #T_fb7b5_row4_col25, #T_fb7b5_row4_col26, #T_fb7b5_row4_col27, #T_fb7b5_row4_col28 {\n",
       "  background-color: #fff7fb;\n",
       "  color: #000000;\n",
       "}\n",
       "#T_fb7b5_row0_col8 {\n",
       "  background-color: #80aed2;\n",
       "  color: #f1f1f1;\n",
       "}\n",
       "#T_fb7b5_row0_col9, #T_fb7b5_row0_col10, #T_fb7b5_row0_col11, #T_fb7b5_row0_col12, #T_fb7b5_row0_col13, #T_fb7b5_row0_col14, #T_fb7b5_row0_col16, #T_fb7b5_row0_col17, #T_fb7b5_row0_col19, #T_fb7b5_row0_col28, #T_fb7b5_row1_col5, #T_fb7b5_row1_col6, #T_fb7b5_row1_col29, #T_fb7b5_row2_col4, #T_fb7b5_row2_col16, #T_fb7b5_row2_col18, #T_fb7b5_row3_col0, #T_fb7b5_row3_col1, #T_fb7b5_row3_col5, #T_fb7b5_row4_col5, #T_fb7b5_row4_col8, #T_fb7b5_row4_col15 {\n",
       "  background-color: #023858;\n",
       "  color: #f1f1f1;\n",
       "}\n",
       "#T_fb7b5_row0_col15, #T_fb7b5_row3_col29, #T_fb7b5_row4_col18, #T_fb7b5_row4_col29 {\n",
       "  background-color: #73a9cf;\n",
       "  color: #f1f1f1;\n",
       "}\n",
       "#T_fb7b5_row0_col18, #T_fb7b5_row1_col15, #T_fb7b5_row3_col15, #T_fb7b5_row3_col18 {\n",
       "  background-color: #d0d1e6;\n",
       "  color: #000000;\n",
       "}\n",
       "#T_fb7b5_row1_col4 {\n",
       "  background-color: #8cb3d5;\n",
       "  color: #000000;\n",
       "}\n",
       "#T_fb7b5_row1_col8 {\n",
       "  background-color: #e0deed;\n",
       "  color: #000000;\n",
       "}\n",
       "#T_fb7b5_row1_col14 {\n",
       "  background-color: #fdf5fa;\n",
       "  color: #000000;\n",
       "}\n",
       "#T_fb7b5_row1_col19, #T_fb7b5_row4_col19 {\n",
       "  background-color: #b4c4df;\n",
       "  color: #000000;\n",
       "}\n",
       "#T_fb7b5_row2_col0 {\n",
       "  background-color: #78abd0;\n",
       "  color: #f1f1f1;\n",
       "}\n",
       "#T_fb7b5_row2_col1 {\n",
       "  background-color: #a9bfdc;\n",
       "  color: #000000;\n",
       "}\n",
       "#T_fb7b5_row2_col9, #T_fb7b5_row3_col19 {\n",
       "  background-color: #2685bb;\n",
       "  color: #f1f1f1;\n",
       "}\n",
       "#T_fb7b5_row2_col10 {\n",
       "  background-color: #5a9ec9;\n",
       "  color: #f1f1f1;\n",
       "}\n",
       "#T_fb7b5_row2_col11 {\n",
       "  background-color: #d6d6e9;\n",
       "  color: #000000;\n",
       "}\n",
       "#T_fb7b5_row2_col12 {\n",
       "  background-color: #2f8bbe;\n",
       "  color: #f1f1f1;\n",
       "}\n",
       "#T_fb7b5_row2_col13 {\n",
       "  background-color: #d5d5e8;\n",
       "  color: #000000;\n",
       "}\n",
       "#T_fb7b5_row2_col14 {\n",
       "  background-color: #89b1d4;\n",
       "  color: #000000;\n",
       "}\n",
       "#T_fb7b5_row2_col17 {\n",
       "  background-color: #dbdaeb;\n",
       "  color: #000000;\n",
       "}\n",
       "#T_fb7b5_row3_col10 {\n",
       "  background-color: #faf3f9;\n",
       "  color: #000000;\n",
       "}\n",
       "#T_fb7b5_row3_col11 {\n",
       "  background-color: #fbf4f9;\n",
       "  color: #000000;\n",
       "}\n",
       "#T_fb7b5_row3_col12 {\n",
       "  background-color: #f8f1f8;\n",
       "  color: #000000;\n",
       "}\n",
       "#T_fb7b5_row3_col13 {\n",
       "  background-color: #fcf4fa;\n",
       "  color: #000000;\n",
       "}\n",
       "#T_fb7b5_row3_col16 {\n",
       "  background-color: #e8e4f0;\n",
       "  color: #000000;\n",
       "}\n",
       "#T_fb7b5_row4_col0 {\n",
       "  background-color: #0569a5;\n",
       "  color: #f1f1f1;\n",
       "}\n",
       "#T_fb7b5_row4_col1 {\n",
       "  background-color: #045382;\n",
       "  color: #f1f1f1;\n",
       "}\n",
       "#T_fb7b5_row4_col4 {\n",
       "  background-color: #167bb6;\n",
       "  color: #f1f1f1;\n",
       "}\n",
       "#T_fb7b5_row4_col9, #T_fb7b5_row4_col12 {\n",
       "  background-color: #cdd0e5;\n",
       "  color: #000000;\n",
       "}\n",
       "#T_fb7b5_row4_col10 {\n",
       "  background-color: #7bacd1;\n",
       "  color: #f1f1f1;\n",
       "}\n",
       "#T_fb7b5_row4_col11 {\n",
       "  background-color: #d9d8ea;\n",
       "  color: #000000;\n",
       "}\n",
       "#T_fb7b5_row4_col13, #T_fb7b5_row4_col17 {\n",
       "  background-color: #c0c9e2;\n",
       "  color: #000000;\n",
       "}\n",
       "#T_fb7b5_row4_col14 {\n",
       "  background-color: #ede8f3;\n",
       "  color: #000000;\n",
       "}\n",
       "#T_fb7b5_row4_col16 {\n",
       "  background-color: #509ac6;\n",
       "  color: #f1f1f1;\n",
       "}\n",
       "</style>\n",
       "<table id=\"T_fb7b5\">\n",
       "  <thead>\n",
       "    <tr>\n",
       "      <th class=\"blank level0\" >&nbsp;</th>\n",
       "      <th id=\"T_fb7b5_level0_col0\" class=\"col_heading level0 col0\" >ID</th>\n",
       "      <th id=\"T_fb7b5_level0_col1\" class=\"col_heading level0 col1\" >Year_Birth</th>\n",
       "      <th id=\"T_fb7b5_level0_col2\" class=\"col_heading level0 col2\" >Education</th>\n",
       "      <th id=\"T_fb7b5_level0_col3\" class=\"col_heading level0 col3\" >Marital_Status</th>\n",
       "      <th id=\"T_fb7b5_level0_col4\" class=\"col_heading level0 col4\" >Income</th>\n",
       "      <th id=\"T_fb7b5_level0_col5\" class=\"col_heading level0 col5\" >Kidhome</th>\n",
       "      <th id=\"T_fb7b5_level0_col6\" class=\"col_heading level0 col6\" >Teenhome</th>\n",
       "      <th id=\"T_fb7b5_level0_col7\" class=\"col_heading level0 col7\" >Dt_Customer</th>\n",
       "      <th id=\"T_fb7b5_level0_col8\" class=\"col_heading level0 col8\" >Recency</th>\n",
       "      <th id=\"T_fb7b5_level0_col9\" class=\"col_heading level0 col9\" >MntWines</th>\n",
       "      <th id=\"T_fb7b5_level0_col10\" class=\"col_heading level0 col10\" >MntFruits</th>\n",
       "      <th id=\"T_fb7b5_level0_col11\" class=\"col_heading level0 col11\" >MntMeatProducts</th>\n",
       "      <th id=\"T_fb7b5_level0_col12\" class=\"col_heading level0 col12\" >MntFishProducts</th>\n",
       "      <th id=\"T_fb7b5_level0_col13\" class=\"col_heading level0 col13\" >MntSweetProducts</th>\n",
       "      <th id=\"T_fb7b5_level0_col14\" class=\"col_heading level0 col14\" >MntGoldProds</th>\n",
       "      <th id=\"T_fb7b5_level0_col15\" class=\"col_heading level0 col15\" >NumDealsPurchases</th>\n",
       "      <th id=\"T_fb7b5_level0_col16\" class=\"col_heading level0 col16\" >NumWebPurchases</th>\n",
       "      <th id=\"T_fb7b5_level0_col17\" class=\"col_heading level0 col17\" >NumCatalogPurchases</th>\n",
       "      <th id=\"T_fb7b5_level0_col18\" class=\"col_heading level0 col18\" >NumStorePurchases</th>\n",
       "      <th id=\"T_fb7b5_level0_col19\" class=\"col_heading level0 col19\" >NumWebVisitsMonth</th>\n",
       "      <th id=\"T_fb7b5_level0_col20\" class=\"col_heading level0 col20\" >AcceptedCmp3</th>\n",
       "      <th id=\"T_fb7b5_level0_col21\" class=\"col_heading level0 col21\" >AcceptedCmp4</th>\n",
       "      <th id=\"T_fb7b5_level0_col22\" class=\"col_heading level0 col22\" >AcceptedCmp5</th>\n",
       "      <th id=\"T_fb7b5_level0_col23\" class=\"col_heading level0 col23\" >AcceptedCmp1</th>\n",
       "      <th id=\"T_fb7b5_level0_col24\" class=\"col_heading level0 col24\" >AcceptedCmp2</th>\n",
       "      <th id=\"T_fb7b5_level0_col25\" class=\"col_heading level0 col25\" >Complain</th>\n",
       "      <th id=\"T_fb7b5_level0_col26\" class=\"col_heading level0 col26\" >Z_CostContact</th>\n",
       "      <th id=\"T_fb7b5_level0_col27\" class=\"col_heading level0 col27\" >Z_Revenue</th>\n",
       "      <th id=\"T_fb7b5_level0_col28\" class=\"col_heading level0 col28\" >Response</th>\n",
       "      <th id=\"T_fb7b5_level0_col29\" class=\"col_heading level0 col29\" >Total_Children</th>\n",
       "    </tr>\n",
       "  </thead>\n",
       "  <tbody>\n",
       "    <tr>\n",
       "      <th id=\"T_fb7b5_level0_row0\" class=\"row_heading level0 row0\" >0</th>\n",
       "      <td id=\"T_fb7b5_row0_col0\" class=\"data row0 col0\" >5524</td>\n",
       "      <td id=\"T_fb7b5_row0_col1\" class=\"data row0 col1\" >1957</td>\n",
       "      <td id=\"T_fb7b5_row0_col2\" class=\"data row0 col2\" >Graduation</td>\n",
       "      <td id=\"T_fb7b5_row0_col3\" class=\"data row0 col3\" >Single</td>\n",
       "      <td id=\"T_fb7b5_row0_col4\" class=\"data row0 col4\" >58138.000000</td>\n",
       "      <td id=\"T_fb7b5_row0_col5\" class=\"data row0 col5\" >0</td>\n",
       "      <td id=\"T_fb7b5_row0_col6\" class=\"data row0 col6\" >0</td>\n",
       "      <td id=\"T_fb7b5_row0_col7\" class=\"data row0 col7\" >2012-09-04 00:00:00</td>\n",
       "      <td id=\"T_fb7b5_row0_col8\" class=\"data row0 col8\" >58</td>\n",
       "      <td id=\"T_fb7b5_row0_col9\" class=\"data row0 col9\" >635</td>\n",
       "      <td id=\"T_fb7b5_row0_col10\" class=\"data row0 col10\" >88</td>\n",
       "      <td id=\"T_fb7b5_row0_col11\" class=\"data row0 col11\" >546</td>\n",
       "      <td id=\"T_fb7b5_row0_col12\" class=\"data row0 col12\" >172</td>\n",
       "      <td id=\"T_fb7b5_row0_col13\" class=\"data row0 col13\" >88</td>\n",
       "      <td id=\"T_fb7b5_row0_col14\" class=\"data row0 col14\" >88</td>\n",
       "      <td id=\"T_fb7b5_row0_col15\" class=\"data row0 col15\" >3</td>\n",
       "      <td id=\"T_fb7b5_row0_col16\" class=\"data row0 col16\" >8</td>\n",
       "      <td id=\"T_fb7b5_row0_col17\" class=\"data row0 col17\" >10</td>\n",
       "      <td id=\"T_fb7b5_row0_col18\" class=\"data row0 col18\" >4</td>\n",
       "      <td id=\"T_fb7b5_row0_col19\" class=\"data row0 col19\" >7</td>\n",
       "      <td id=\"T_fb7b5_row0_col20\" class=\"data row0 col20\" >0</td>\n",
       "      <td id=\"T_fb7b5_row0_col21\" class=\"data row0 col21\" >0</td>\n",
       "      <td id=\"T_fb7b5_row0_col22\" class=\"data row0 col22\" >0</td>\n",
       "      <td id=\"T_fb7b5_row0_col23\" class=\"data row0 col23\" >0</td>\n",
       "      <td id=\"T_fb7b5_row0_col24\" class=\"data row0 col24\" >0</td>\n",
       "      <td id=\"T_fb7b5_row0_col25\" class=\"data row0 col25\" >0</td>\n",
       "      <td id=\"T_fb7b5_row0_col26\" class=\"data row0 col26\" >3</td>\n",
       "      <td id=\"T_fb7b5_row0_col27\" class=\"data row0 col27\" >11</td>\n",
       "      <td id=\"T_fb7b5_row0_col28\" class=\"data row0 col28\" >1</td>\n",
       "      <td id=\"T_fb7b5_row0_col29\" class=\"data row0 col29\" >0</td>\n",
       "    </tr>\n",
       "    <tr>\n",
       "      <th id=\"T_fb7b5_level0_row1\" class=\"row_heading level0 row1\" >1</th>\n",
       "      <td id=\"T_fb7b5_row1_col0\" class=\"data row1 col0\" >2174</td>\n",
       "      <td id=\"T_fb7b5_row1_col1\" class=\"data row1 col1\" >1954</td>\n",
       "      <td id=\"T_fb7b5_row1_col2\" class=\"data row1 col2\" >Graduation</td>\n",
       "      <td id=\"T_fb7b5_row1_col3\" class=\"data row1 col3\" >Single</td>\n",
       "      <td id=\"T_fb7b5_row1_col4\" class=\"data row1 col4\" >46344.000000</td>\n",
       "      <td id=\"T_fb7b5_row1_col5\" class=\"data row1 col5\" >1</td>\n",
       "      <td id=\"T_fb7b5_row1_col6\" class=\"data row1 col6\" >1</td>\n",
       "      <td id=\"T_fb7b5_row1_col7\" class=\"data row1 col7\" >2014-03-08 00:00:00</td>\n",
       "      <td id=\"T_fb7b5_row1_col8\" class=\"data row1 col8\" >38</td>\n",
       "      <td id=\"T_fb7b5_row1_col9\" class=\"data row1 col9\" >11</td>\n",
       "      <td id=\"T_fb7b5_row1_col10\" class=\"data row1 col10\" >1</td>\n",
       "      <td id=\"T_fb7b5_row1_col11\" class=\"data row1 col11\" >6</td>\n",
       "      <td id=\"T_fb7b5_row1_col12\" class=\"data row1 col12\" >2</td>\n",
       "      <td id=\"T_fb7b5_row1_col13\" class=\"data row1 col13\" >1</td>\n",
       "      <td id=\"T_fb7b5_row1_col14\" class=\"data row1 col14\" >6</td>\n",
       "      <td id=\"T_fb7b5_row1_col15\" class=\"data row1 col15\" >2</td>\n",
       "      <td id=\"T_fb7b5_row1_col16\" class=\"data row1 col16\" >1</td>\n",
       "      <td id=\"T_fb7b5_row1_col17\" class=\"data row1 col17\" >1</td>\n",
       "      <td id=\"T_fb7b5_row1_col18\" class=\"data row1 col18\" >2</td>\n",
       "      <td id=\"T_fb7b5_row1_col19\" class=\"data row1 col19\" >5</td>\n",
       "      <td id=\"T_fb7b5_row1_col20\" class=\"data row1 col20\" >0</td>\n",
       "      <td id=\"T_fb7b5_row1_col21\" class=\"data row1 col21\" >0</td>\n",
       "      <td id=\"T_fb7b5_row1_col22\" class=\"data row1 col22\" >0</td>\n",
       "      <td id=\"T_fb7b5_row1_col23\" class=\"data row1 col23\" >0</td>\n",
       "      <td id=\"T_fb7b5_row1_col24\" class=\"data row1 col24\" >0</td>\n",
       "      <td id=\"T_fb7b5_row1_col25\" class=\"data row1 col25\" >0</td>\n",
       "      <td id=\"T_fb7b5_row1_col26\" class=\"data row1 col26\" >3</td>\n",
       "      <td id=\"T_fb7b5_row1_col27\" class=\"data row1 col27\" >11</td>\n",
       "      <td id=\"T_fb7b5_row1_col28\" class=\"data row1 col28\" >0</td>\n",
       "      <td id=\"T_fb7b5_row1_col29\" class=\"data row1 col29\" >2</td>\n",
       "    </tr>\n",
       "    <tr>\n",
       "      <th id=\"T_fb7b5_level0_row2\" class=\"row_heading level0 row2\" >2</th>\n",
       "      <td id=\"T_fb7b5_row2_col0\" class=\"data row2 col0\" >4141</td>\n",
       "      <td id=\"T_fb7b5_row2_col1\" class=\"data row2 col1\" >1965</td>\n",
       "      <td id=\"T_fb7b5_row2_col2\" class=\"data row2 col2\" >Graduation</td>\n",
       "      <td id=\"T_fb7b5_row2_col3\" class=\"data row2 col3\" >Together</td>\n",
       "      <td id=\"T_fb7b5_row2_col4\" class=\"data row2 col4\" >71613.000000</td>\n",
       "      <td id=\"T_fb7b5_row2_col5\" class=\"data row2 col5\" >0</td>\n",
       "      <td id=\"T_fb7b5_row2_col6\" class=\"data row2 col6\" >0</td>\n",
       "      <td id=\"T_fb7b5_row2_col7\" class=\"data row2 col7\" >2013-08-21 00:00:00</td>\n",
       "      <td id=\"T_fb7b5_row2_col8\" class=\"data row2 col8\" >26</td>\n",
       "      <td id=\"T_fb7b5_row2_col9\" class=\"data row2 col9\" >426</td>\n",
       "      <td id=\"T_fb7b5_row2_col10\" class=\"data row2 col10\" >49</td>\n",
       "      <td id=\"T_fb7b5_row2_col11\" class=\"data row2 col11\" >127</td>\n",
       "      <td id=\"T_fb7b5_row2_col12\" class=\"data row2 col12\" >111</td>\n",
       "      <td id=\"T_fb7b5_row2_col13\" class=\"data row2 col13\" >21</td>\n",
       "      <td id=\"T_fb7b5_row2_col14\" class=\"data row2 col14\" >42</td>\n",
       "      <td id=\"T_fb7b5_row2_col15\" class=\"data row2 col15\" >1</td>\n",
       "      <td id=\"T_fb7b5_row2_col16\" class=\"data row2 col16\" >8</td>\n",
       "      <td id=\"T_fb7b5_row2_col17\" class=\"data row2 col17\" >2</td>\n",
       "      <td id=\"T_fb7b5_row2_col18\" class=\"data row2 col18\" >10</td>\n",
       "      <td id=\"T_fb7b5_row2_col19\" class=\"data row2 col19\" >4</td>\n",
       "      <td id=\"T_fb7b5_row2_col20\" class=\"data row2 col20\" >0</td>\n",
       "      <td id=\"T_fb7b5_row2_col21\" class=\"data row2 col21\" >0</td>\n",
       "      <td id=\"T_fb7b5_row2_col22\" class=\"data row2 col22\" >0</td>\n",
       "      <td id=\"T_fb7b5_row2_col23\" class=\"data row2 col23\" >0</td>\n",
       "      <td id=\"T_fb7b5_row2_col24\" class=\"data row2 col24\" >0</td>\n",
       "      <td id=\"T_fb7b5_row2_col25\" class=\"data row2 col25\" >0</td>\n",
       "      <td id=\"T_fb7b5_row2_col26\" class=\"data row2 col26\" >3</td>\n",
       "      <td id=\"T_fb7b5_row2_col27\" class=\"data row2 col27\" >11</td>\n",
       "      <td id=\"T_fb7b5_row2_col28\" class=\"data row2 col28\" >0</td>\n",
       "      <td id=\"T_fb7b5_row2_col29\" class=\"data row2 col29\" >0</td>\n",
       "    </tr>\n",
       "    <tr>\n",
       "      <th id=\"T_fb7b5_level0_row3\" class=\"row_heading level0 row3\" >3</th>\n",
       "      <td id=\"T_fb7b5_row3_col0\" class=\"data row3 col0\" >6182</td>\n",
       "      <td id=\"T_fb7b5_row3_col1\" class=\"data row3 col1\" >1984</td>\n",
       "      <td id=\"T_fb7b5_row3_col2\" class=\"data row3 col2\" >Graduation</td>\n",
       "      <td id=\"T_fb7b5_row3_col3\" class=\"data row3 col3\" >Together</td>\n",
       "      <td id=\"T_fb7b5_row3_col4\" class=\"data row3 col4\" >26646.000000</td>\n",
       "      <td id=\"T_fb7b5_row3_col5\" class=\"data row3 col5\" >1</td>\n",
       "      <td id=\"T_fb7b5_row3_col6\" class=\"data row3 col6\" >0</td>\n",
       "      <td id=\"T_fb7b5_row3_col7\" class=\"data row3 col7\" >2014-02-10 00:00:00</td>\n",
       "      <td id=\"T_fb7b5_row3_col8\" class=\"data row3 col8\" >26</td>\n",
       "      <td id=\"T_fb7b5_row3_col9\" class=\"data row3 col9\" >11</td>\n",
       "      <td id=\"T_fb7b5_row3_col10\" class=\"data row3 col10\" >4</td>\n",
       "      <td id=\"T_fb7b5_row3_col11\" class=\"data row3 col11\" >20</td>\n",
       "      <td id=\"T_fb7b5_row3_col12\" class=\"data row3 col12\" >10</td>\n",
       "      <td id=\"T_fb7b5_row3_col13\" class=\"data row3 col13\" >3</td>\n",
       "      <td id=\"T_fb7b5_row3_col14\" class=\"data row3 col14\" >5</td>\n",
       "      <td id=\"T_fb7b5_row3_col15\" class=\"data row3 col15\" >2</td>\n",
       "      <td id=\"T_fb7b5_row3_col16\" class=\"data row3 col16\" >2</td>\n",
       "      <td id=\"T_fb7b5_row3_col17\" class=\"data row3 col17\" >0</td>\n",
       "      <td id=\"T_fb7b5_row3_col18\" class=\"data row3 col18\" >4</td>\n",
       "      <td id=\"T_fb7b5_row3_col19\" class=\"data row3 col19\" >6</td>\n",
       "      <td id=\"T_fb7b5_row3_col20\" class=\"data row3 col20\" >0</td>\n",
       "      <td id=\"T_fb7b5_row3_col21\" class=\"data row3 col21\" >0</td>\n",
       "      <td id=\"T_fb7b5_row3_col22\" class=\"data row3 col22\" >0</td>\n",
       "      <td id=\"T_fb7b5_row3_col23\" class=\"data row3 col23\" >0</td>\n",
       "      <td id=\"T_fb7b5_row3_col24\" class=\"data row3 col24\" >0</td>\n",
       "      <td id=\"T_fb7b5_row3_col25\" class=\"data row3 col25\" >0</td>\n",
       "      <td id=\"T_fb7b5_row3_col26\" class=\"data row3 col26\" >3</td>\n",
       "      <td id=\"T_fb7b5_row3_col27\" class=\"data row3 col27\" >11</td>\n",
       "      <td id=\"T_fb7b5_row3_col28\" class=\"data row3 col28\" >0</td>\n",
       "      <td id=\"T_fb7b5_row3_col29\" class=\"data row3 col29\" >1</td>\n",
       "    </tr>\n",
       "    <tr>\n",
       "      <th id=\"T_fb7b5_level0_row4\" class=\"row_heading level0 row4\" >4</th>\n",
       "      <td id=\"T_fb7b5_row4_col0\" class=\"data row4 col0\" >5324</td>\n",
       "      <td id=\"T_fb7b5_row4_col1\" class=\"data row4 col1\" >1981</td>\n",
       "      <td id=\"T_fb7b5_row4_col2\" class=\"data row4 col2\" >PhD</td>\n",
       "      <td id=\"T_fb7b5_row4_col3\" class=\"data row4 col3\" >Married</td>\n",
       "      <td id=\"T_fb7b5_row4_col4\" class=\"data row4 col4\" >58293.000000</td>\n",
       "      <td id=\"T_fb7b5_row4_col5\" class=\"data row4 col5\" >1</td>\n",
       "      <td id=\"T_fb7b5_row4_col6\" class=\"data row4 col6\" >0</td>\n",
       "      <td id=\"T_fb7b5_row4_col7\" class=\"data row4 col7\" >2014-01-19 00:00:00</td>\n",
       "      <td id=\"T_fb7b5_row4_col8\" class=\"data row4 col8\" >94</td>\n",
       "      <td id=\"T_fb7b5_row4_col9\" class=\"data row4 col9\" >173</td>\n",
       "      <td id=\"T_fb7b5_row4_col10\" class=\"data row4 col10\" >43</td>\n",
       "      <td id=\"T_fb7b5_row4_col11\" class=\"data row4 col11\" >118</td>\n",
       "      <td id=\"T_fb7b5_row4_col12\" class=\"data row4 col12\" >46</td>\n",
       "      <td id=\"T_fb7b5_row4_col13\" class=\"data row4 col13\" >27</td>\n",
       "      <td id=\"T_fb7b5_row4_col14\" class=\"data row4 col14\" >15</td>\n",
       "      <td id=\"T_fb7b5_row4_col15\" class=\"data row4 col15\" >5</td>\n",
       "      <td id=\"T_fb7b5_row4_col16\" class=\"data row4 col16\" >5</td>\n",
       "      <td id=\"T_fb7b5_row4_col17\" class=\"data row4 col17\" >3</td>\n",
       "      <td id=\"T_fb7b5_row4_col18\" class=\"data row4 col18\" >6</td>\n",
       "      <td id=\"T_fb7b5_row4_col19\" class=\"data row4 col19\" >5</td>\n",
       "      <td id=\"T_fb7b5_row4_col20\" class=\"data row4 col20\" >0</td>\n",
       "      <td id=\"T_fb7b5_row4_col21\" class=\"data row4 col21\" >0</td>\n",
       "      <td id=\"T_fb7b5_row4_col22\" class=\"data row4 col22\" >0</td>\n",
       "      <td id=\"T_fb7b5_row4_col23\" class=\"data row4 col23\" >0</td>\n",
       "      <td id=\"T_fb7b5_row4_col24\" class=\"data row4 col24\" >0</td>\n",
       "      <td id=\"T_fb7b5_row4_col25\" class=\"data row4 col25\" >0</td>\n",
       "      <td id=\"T_fb7b5_row4_col26\" class=\"data row4 col26\" >3</td>\n",
       "      <td id=\"T_fb7b5_row4_col27\" class=\"data row4 col27\" >11</td>\n",
       "      <td id=\"T_fb7b5_row4_col28\" class=\"data row4 col28\" >0</td>\n",
       "      <td id=\"T_fb7b5_row4_col29\" class=\"data row4 col29\" >1</td>\n",
       "    </tr>\n",
       "  </tbody>\n",
       "</table>\n"
      ],
      "text/plain": [
       "<pandas.io.formats.style.Styler at 0x1e2b548aa80>"
      ]
     },
     "execution_count": 85,
     "metadata": {},
     "output_type": "execute_result"
    }
   ],
   "source": [
    "customer.head().style.background_gradient(cmap='PuBu')"
   ]
  },
  {
   "cell_type": "code",
   "execution_count": 27,
   "metadata": {},
   "outputs": [
    {
     "data": {
      "text/html": [
       "<style type=\"text/css\">\n",
       "#T_17392_row0_col0, #T_17392_row0_col6, #T_17392_row0_col13, #T_17392_row0_col14, #T_17392_row0_col16, #T_17392_row1_col5, #T_17392_row1_col6, #T_17392_row1_col15, #T_17392_row1_col19, #T_17392_row1_col23, #T_17392_row2_col1, #T_17392_row2_col8, #T_17392_row2_col9, #T_17392_row2_col10, #T_17392_row2_col11, #T_17392_row2_col18, #T_17392_row2_col21, #T_17392_row3_col4, #T_17392_row3_col6, #T_17392_row3_col12, #T_17392_row3_col17, #T_17392_row4_col6, #T_17392_row4_col19, #T_17392_row4_col28 {\n",
       "  background-color: #023858;\n",
       "  color: #f1f1f1;\n",
       "}\n",
       "#T_17392_row0_col1 {\n",
       "  background-color: #4295c3;\n",
       "  color: #f1f1f1;\n",
       "}\n",
       "#T_17392_row0_col4 {\n",
       "  background-color: #6fa7ce;\n",
       "  color: #f1f1f1;\n",
       "}\n",
       "#T_17392_row0_col5, #T_17392_row0_col18, #T_17392_row0_col20, #T_17392_row0_col21, #T_17392_row0_col22, #T_17392_row0_col23, #T_17392_row0_col24, #T_17392_row0_col25, #T_17392_row0_col26, #T_17392_row0_col27, #T_17392_row0_col28, #T_17392_row1_col0, #T_17392_row1_col1, #T_17392_row1_col10, #T_17392_row1_col11, #T_17392_row1_col12, #T_17392_row1_col13, #T_17392_row1_col14, #T_17392_row1_col20, #T_17392_row1_col21, #T_17392_row1_col22, #T_17392_row1_col24, #T_17392_row1_col25, #T_17392_row1_col26, #T_17392_row1_col27, #T_17392_row1_col28, #T_17392_row2_col5, #T_17392_row2_col6, #T_17392_row2_col15, #T_17392_row2_col16, #T_17392_row2_col20, #T_17392_row2_col22, #T_17392_row2_col23, #T_17392_row2_col24, #T_17392_row2_col25, #T_17392_row2_col26, #T_17392_row2_col27, #T_17392_row2_col28, #T_17392_row3_col5, #T_17392_row3_col8, #T_17392_row3_col19, #T_17392_row3_col20, #T_17392_row3_col21, #T_17392_row3_col22, #T_17392_row3_col23, #T_17392_row3_col24, #T_17392_row3_col25, #T_17392_row3_col26, #T_17392_row3_col27, #T_17392_row3_col28, #T_17392_row4_col4, #T_17392_row4_col9, #T_17392_row4_col17, #T_17392_row4_col18, #T_17392_row4_col20, #T_17392_row4_col21, #T_17392_row4_col22, #T_17392_row4_col23, #T_17392_row4_col24, #T_17392_row4_col25, #T_17392_row4_col26, #T_17392_row4_col27 {\n",
       "  background-color: #fff7fb;\n",
       "  color: #000000;\n",
       "}\n",
       "#T_17392_row0_col8 {\n",
       "  background-color: #84b0d3;\n",
       "  color: #f1f1f1;\n",
       "}\n",
       "#T_17392_row0_col9 {\n",
       "  background-color: #056ead;\n",
       "  color: #f1f1f1;\n",
       "}\n",
       "#T_17392_row0_col10 {\n",
       "  background-color: #045483;\n",
       "  color: #f1f1f1;\n",
       "}\n",
       "#T_17392_row0_col11 {\n",
       "  background-color: #04649e;\n",
       "  color: #f1f1f1;\n",
       "}\n",
       "#T_17392_row0_col12 {\n",
       "  background-color: #67a4cc;\n",
       "  color: #f1f1f1;\n",
       "}\n",
       "#T_17392_row0_col15, #T_17392_row3_col15, #T_17392_row4_col11 {\n",
       "  background-color: #e3e0ee;\n",
       "  color: #000000;\n",
       "}\n",
       "#T_17392_row0_col17, #T_17392_row0_col19, #T_17392_row2_col17, #T_17392_row4_col5 {\n",
       "  background-color: #73a9cf;\n",
       "  color: #f1f1f1;\n",
       "}\n",
       "#T_17392_row1_col4 {\n",
       "  background-color: #2081b9;\n",
       "  color: #f1f1f1;\n",
       "}\n",
       "#T_17392_row1_col8 {\n",
       "  background-color: #4c99c5;\n",
       "  color: #f1f1f1;\n",
       "}\n",
       "#T_17392_row1_col9 {\n",
       "  background-color: #9fbad9;\n",
       "  color: #000000;\n",
       "}\n",
       "#T_17392_row1_col16 {\n",
       "  background-color: #045d92;\n",
       "  color: #f1f1f1;\n",
       "}\n",
       "#T_17392_row1_col17, #T_17392_row2_col4 {\n",
       "  background-color: #d0d1e6;\n",
       "  color: #000000;\n",
       "}\n",
       "#T_17392_row1_col18 {\n",
       "  background-color: #eee9f3;\n",
       "  color: #000000;\n",
       "}\n",
       "#T_17392_row2_col0 {\n",
       "  background-color: #7eadd1;\n",
       "  color: #f1f1f1;\n",
       "}\n",
       "#T_17392_row2_col12 {\n",
       "  background-color: #9cb9d9;\n",
       "  color: #000000;\n",
       "}\n",
       "#T_17392_row2_col13 {\n",
       "  background-color: #f0eaf4;\n",
       "  color: #000000;\n",
       "}\n",
       "#T_17392_row2_col14 {\n",
       "  background-color: #f5eef6;\n",
       "  color: #000000;\n",
       "}\n",
       "#T_17392_row2_col19 {\n",
       "  background-color: #056faf;\n",
       "  color: #f1f1f1;\n",
       "}\n",
       "#T_17392_row3_col0 {\n",
       "  background-color: #3b92c1;\n",
       "  color: #f1f1f1;\n",
       "}\n",
       "#T_17392_row3_col1 {\n",
       "  background-color: #c4cbe3;\n",
       "  color: #000000;\n",
       "}\n",
       "#T_17392_row3_col9 {\n",
       "  background-color: #96b6d7;\n",
       "  color: #000000;\n",
       "}\n",
       "#T_17392_row3_col10 {\n",
       "  background-color: #358fc0;\n",
       "  color: #f1f1f1;\n",
       "}\n",
       "#T_17392_row3_col11 {\n",
       "  background-color: #023c5f;\n",
       "  color: #f1f1f1;\n",
       "}\n",
       "#T_17392_row3_col13 {\n",
       "  background-color: #ced0e6;\n",
       "  color: #000000;\n",
       "}\n",
       "#T_17392_row3_col14 {\n",
       "  background-color: #d7d6e9;\n",
       "  color: #000000;\n",
       "}\n",
       "#T_17392_row3_col16 {\n",
       "  background-color: #509ac6;\n",
       "  color: #f1f1f1;\n",
       "}\n",
       "#T_17392_row3_col18 {\n",
       "  background-color: #2685bb;\n",
       "  color: #f1f1f1;\n",
       "}\n",
       "#T_17392_row4_col0 {\n",
       "  background-color: #0569a5;\n",
       "  color: #f1f1f1;\n",
       "}\n",
       "#T_17392_row4_col1 {\n",
       "  background-color: #d5d5e8;\n",
       "  color: #000000;\n",
       "}\n",
       "#T_17392_row4_col8 {\n",
       "  background-color: #a2bcda;\n",
       "  color: #000000;\n",
       "}\n",
       "#T_17392_row4_col10 {\n",
       "  background-color: #f5eff6;\n",
       "  color: #000000;\n",
       "}\n",
       "#T_17392_row4_col12 {\n",
       "  background-color: #fbf4f9;\n",
       "  color: #000000;\n",
       "}\n",
       "#T_17392_row4_col13 {\n",
       "  background-color: #fef6fa;\n",
       "  color: #000000;\n",
       "}\n",
       "#T_17392_row4_col14 {\n",
       "  background-color: #f7f0f7;\n",
       "  color: #000000;\n",
       "}\n",
       "#T_17392_row4_col15 {\n",
       "  background-color: #b4c4df;\n",
       "  color: #000000;\n",
       "}\n",
       "#T_17392_row4_col16 {\n",
       "  background-color: #e8e4f0;\n",
       "  color: #000000;\n",
       "}\n",
       "</style>\n",
       "<table id=\"T_17392\">\n",
       "  <thead>\n",
       "    <tr>\n",
       "      <th class=\"blank level0\" >&nbsp;</th>\n",
       "      <th id=\"T_17392_level0_col0\" class=\"col_heading level0 col0\" >ID</th>\n",
       "      <th id=\"T_17392_level0_col1\" class=\"col_heading level0 col1\" >Year_Birth</th>\n",
       "      <th id=\"T_17392_level0_col2\" class=\"col_heading level0 col2\" >Education</th>\n",
       "      <th id=\"T_17392_level0_col3\" class=\"col_heading level0 col3\" >Marital_Status</th>\n",
       "      <th id=\"T_17392_level0_col4\" class=\"col_heading level0 col4\" >Income</th>\n",
       "      <th id=\"T_17392_level0_col5\" class=\"col_heading level0 col5\" >Kidhome</th>\n",
       "      <th id=\"T_17392_level0_col6\" class=\"col_heading level0 col6\" >Teenhome</th>\n",
       "      <th id=\"T_17392_level0_col7\" class=\"col_heading level0 col7\" >Dt_Customer</th>\n",
       "      <th id=\"T_17392_level0_col8\" class=\"col_heading level0 col8\" >Recency</th>\n",
       "      <th id=\"T_17392_level0_col9\" class=\"col_heading level0 col9\" >MntWines</th>\n",
       "      <th id=\"T_17392_level0_col10\" class=\"col_heading level0 col10\" >MntFruits</th>\n",
       "      <th id=\"T_17392_level0_col11\" class=\"col_heading level0 col11\" >MntMeatProducts</th>\n",
       "      <th id=\"T_17392_level0_col12\" class=\"col_heading level0 col12\" >MntFishProducts</th>\n",
       "      <th id=\"T_17392_level0_col13\" class=\"col_heading level0 col13\" >MntSweetProducts</th>\n",
       "      <th id=\"T_17392_level0_col14\" class=\"col_heading level0 col14\" >MntGoldProds</th>\n",
       "      <th id=\"T_17392_level0_col15\" class=\"col_heading level0 col15\" >NumDealsPurchases</th>\n",
       "      <th id=\"T_17392_level0_col16\" class=\"col_heading level0 col16\" >NumWebPurchases</th>\n",
       "      <th id=\"T_17392_level0_col17\" class=\"col_heading level0 col17\" >NumCatalogPurchases</th>\n",
       "      <th id=\"T_17392_level0_col18\" class=\"col_heading level0 col18\" >NumStorePurchases</th>\n",
       "      <th id=\"T_17392_level0_col19\" class=\"col_heading level0 col19\" >NumWebVisitsMonth</th>\n",
       "      <th id=\"T_17392_level0_col20\" class=\"col_heading level0 col20\" >AcceptedCmp3</th>\n",
       "      <th id=\"T_17392_level0_col21\" class=\"col_heading level0 col21\" >AcceptedCmp4</th>\n",
       "      <th id=\"T_17392_level0_col22\" class=\"col_heading level0 col22\" >AcceptedCmp5</th>\n",
       "      <th id=\"T_17392_level0_col23\" class=\"col_heading level0 col23\" >AcceptedCmp1</th>\n",
       "      <th id=\"T_17392_level0_col24\" class=\"col_heading level0 col24\" >AcceptedCmp2</th>\n",
       "      <th id=\"T_17392_level0_col25\" class=\"col_heading level0 col25\" >Complain</th>\n",
       "      <th id=\"T_17392_level0_col26\" class=\"col_heading level0 col26\" >Z_CostContact</th>\n",
       "      <th id=\"T_17392_level0_col27\" class=\"col_heading level0 col27\" >Z_Revenue</th>\n",
       "      <th id=\"T_17392_level0_col28\" class=\"col_heading level0 col28\" >Response</th>\n",
       "    </tr>\n",
       "  </thead>\n",
       "  <tbody>\n",
       "    <tr>\n",
       "      <th id=\"T_17392_level0_row0\" class=\"row_heading level0 row0\" >2235</th>\n",
       "      <td id=\"T_17392_row0_col0\" class=\"data row0 col0\" >10870</td>\n",
       "      <td id=\"T_17392_row0_col1\" class=\"data row0 col1\" >1967</td>\n",
       "      <td id=\"T_17392_row0_col2\" class=\"data row0 col2\" >Graduation</td>\n",
       "      <td id=\"T_17392_row0_col3\" class=\"data row0 col3\" >Married</td>\n",
       "      <td id=\"T_17392_row0_col4\" class=\"data row0 col4\" >61223.000000</td>\n",
       "      <td id=\"T_17392_row0_col5\" class=\"data row0 col5\" >0</td>\n",
       "      <td id=\"T_17392_row0_col6\" class=\"data row0 col6\" >1</td>\n",
       "      <td id=\"T_17392_row0_col7\" class=\"data row0 col7\" >13-06-2013</td>\n",
       "      <td id=\"T_17392_row0_col8\" class=\"data row0 col8\" >46</td>\n",
       "      <td id=\"T_17392_row0_col9\" class=\"data row0 col9\" >709</td>\n",
       "      <td id=\"T_17392_row0_col10\" class=\"data row0 col10\" >43</td>\n",
       "      <td id=\"T_17392_row0_col11\" class=\"data row0 col11\" >182</td>\n",
       "      <td id=\"T_17392_row0_col12\" class=\"data row0 col12\" >42</td>\n",
       "      <td id=\"T_17392_row0_col13\" class=\"data row0 col13\" >118</td>\n",
       "      <td id=\"T_17392_row0_col14\" class=\"data row0 col14\" >247</td>\n",
       "      <td id=\"T_17392_row0_col15\" class=\"data row0 col15\" >2</td>\n",
       "      <td id=\"T_17392_row0_col16\" class=\"data row0 col16\" >9</td>\n",
       "      <td id=\"T_17392_row0_col17\" class=\"data row0 col17\" >3</td>\n",
       "      <td id=\"T_17392_row0_col18\" class=\"data row0 col18\" >4</td>\n",
       "      <td id=\"T_17392_row0_col19\" class=\"data row0 col19\" >5</td>\n",
       "      <td id=\"T_17392_row0_col20\" class=\"data row0 col20\" >0</td>\n",
       "      <td id=\"T_17392_row0_col21\" class=\"data row0 col21\" >0</td>\n",
       "      <td id=\"T_17392_row0_col22\" class=\"data row0 col22\" >0</td>\n",
       "      <td id=\"T_17392_row0_col23\" class=\"data row0 col23\" >0</td>\n",
       "      <td id=\"T_17392_row0_col24\" class=\"data row0 col24\" >0</td>\n",
       "      <td id=\"T_17392_row0_col25\" class=\"data row0 col25\" >0</td>\n",
       "      <td id=\"T_17392_row0_col26\" class=\"data row0 col26\" >3</td>\n",
       "      <td id=\"T_17392_row0_col27\" class=\"data row0 col27\" >11</td>\n",
       "      <td id=\"T_17392_row0_col28\" class=\"data row0 col28\" >0</td>\n",
       "    </tr>\n",
       "    <tr>\n",
       "      <th id=\"T_17392_level0_row1\" class=\"row_heading level0 row1\" >2236</th>\n",
       "      <td id=\"T_17392_row1_col0\" class=\"data row1 col0\" >4001</td>\n",
       "      <td id=\"T_17392_row1_col1\" class=\"data row1 col1\" >1946</td>\n",
       "      <td id=\"T_17392_row1_col2\" class=\"data row1 col2\" >PhD</td>\n",
       "      <td id=\"T_17392_row1_col3\" class=\"data row1 col3\" >Together</td>\n",
       "      <td id=\"T_17392_row1_col4\" class=\"data row1 col4\" >64014.000000</td>\n",
       "      <td id=\"T_17392_row1_col5\" class=\"data row1 col5\" >2</td>\n",
       "      <td id=\"T_17392_row1_col6\" class=\"data row1 col6\" >1</td>\n",
       "      <td id=\"T_17392_row1_col7\" class=\"data row1 col7\" >10-06-2014</td>\n",
       "      <td id=\"T_17392_row1_col8\" class=\"data row1 col8\" >56</td>\n",
       "      <td id=\"T_17392_row1_col9\" class=\"data row1 col9\" >406</td>\n",
       "      <td id=\"T_17392_row1_col10\" class=\"data row1 col10\" >0</td>\n",
       "      <td id=\"T_17392_row1_col11\" class=\"data row1 col11\" >30</td>\n",
       "      <td id=\"T_17392_row1_col12\" class=\"data row1 col12\" >0</td>\n",
       "      <td id=\"T_17392_row1_col13\" class=\"data row1 col13\" >0</td>\n",
       "      <td id=\"T_17392_row1_col14\" class=\"data row1 col14\" >8</td>\n",
       "      <td id=\"T_17392_row1_col15\" class=\"data row1 col15\" >7</td>\n",
       "      <td id=\"T_17392_row1_col16\" class=\"data row1 col16\" >8</td>\n",
       "      <td id=\"T_17392_row1_col17\" class=\"data row1 col17\" >2</td>\n",
       "      <td id=\"T_17392_row1_col18\" class=\"data row1 col18\" >5</td>\n",
       "      <td id=\"T_17392_row1_col19\" class=\"data row1 col19\" >7</td>\n",
       "      <td id=\"T_17392_row1_col20\" class=\"data row1 col20\" >0</td>\n",
       "      <td id=\"T_17392_row1_col21\" class=\"data row1 col21\" >0</td>\n",
       "      <td id=\"T_17392_row1_col22\" class=\"data row1 col22\" >0</td>\n",
       "      <td id=\"T_17392_row1_col23\" class=\"data row1 col23\" >1</td>\n",
       "      <td id=\"T_17392_row1_col24\" class=\"data row1 col24\" >0</td>\n",
       "      <td id=\"T_17392_row1_col25\" class=\"data row1 col25\" >0</td>\n",
       "      <td id=\"T_17392_row1_col26\" class=\"data row1 col26\" >3</td>\n",
       "      <td id=\"T_17392_row1_col27\" class=\"data row1 col27\" >11</td>\n",
       "      <td id=\"T_17392_row1_col28\" class=\"data row1 col28\" >0</td>\n",
       "    </tr>\n",
       "    <tr>\n",
       "      <th id=\"T_17392_level0_row2\" class=\"row_heading level0 row2\" >2237</th>\n",
       "      <td id=\"T_17392_row2_col0\" class=\"data row2 col0\" >7270</td>\n",
       "      <td id=\"T_17392_row2_col1\" class=\"data row2 col1\" >1981</td>\n",
       "      <td id=\"T_17392_row2_col2\" class=\"data row2 col2\" >Graduation</td>\n",
       "      <td id=\"T_17392_row2_col3\" class=\"data row2 col3\" >Divorced</td>\n",
       "      <td id=\"T_17392_row2_col4\" class=\"data row2 col4\" >56981.000000</td>\n",
       "      <td id=\"T_17392_row2_col5\" class=\"data row2 col5\" >0</td>\n",
       "      <td id=\"T_17392_row2_col6\" class=\"data row2 col6\" >0</td>\n",
       "      <td id=\"T_17392_row2_col7\" class=\"data row2 col7\" >25-01-2014</td>\n",
       "      <td id=\"T_17392_row2_col8\" class=\"data row2 col8\" >91</td>\n",
       "      <td id=\"T_17392_row2_col9\" class=\"data row2 col9\" >908</td>\n",
       "      <td id=\"T_17392_row2_col10\" class=\"data row2 col10\" >48</td>\n",
       "      <td id=\"T_17392_row2_col11\" class=\"data row2 col11\" >217</td>\n",
       "      <td id=\"T_17392_row2_col12\" class=\"data row2 col12\" >32</td>\n",
       "      <td id=\"T_17392_row2_col13\" class=\"data row2 col13\" >12</td>\n",
       "      <td id=\"T_17392_row2_col14\" class=\"data row2 col14\" >24</td>\n",
       "      <td id=\"T_17392_row2_col15\" class=\"data row2 col15\" >1</td>\n",
       "      <td id=\"T_17392_row2_col16\" class=\"data row2 col16\" >2</td>\n",
       "      <td id=\"T_17392_row2_col17\" class=\"data row2 col17\" >3</td>\n",
       "      <td id=\"T_17392_row2_col18\" class=\"data row2 col18\" >13</td>\n",
       "      <td id=\"T_17392_row2_col19\" class=\"data row2 col19\" >6</td>\n",
       "      <td id=\"T_17392_row2_col20\" class=\"data row2 col20\" >0</td>\n",
       "      <td id=\"T_17392_row2_col21\" class=\"data row2 col21\" >1</td>\n",
       "      <td id=\"T_17392_row2_col22\" class=\"data row2 col22\" >0</td>\n",
       "      <td id=\"T_17392_row2_col23\" class=\"data row2 col23\" >0</td>\n",
       "      <td id=\"T_17392_row2_col24\" class=\"data row2 col24\" >0</td>\n",
       "      <td id=\"T_17392_row2_col25\" class=\"data row2 col25\" >0</td>\n",
       "      <td id=\"T_17392_row2_col26\" class=\"data row2 col26\" >3</td>\n",
       "      <td id=\"T_17392_row2_col27\" class=\"data row2 col27\" >11</td>\n",
       "      <td id=\"T_17392_row2_col28\" class=\"data row2 col28\" >0</td>\n",
       "    </tr>\n",
       "    <tr>\n",
       "      <th id=\"T_17392_level0_row3\" class=\"row_heading level0 row3\" >2238</th>\n",
       "      <td id=\"T_17392_row3_col0\" class=\"data row3 col0\" >8235</td>\n",
       "      <td id=\"T_17392_row3_col1\" class=\"data row3 col1\" >1956</td>\n",
       "      <td id=\"T_17392_row3_col2\" class=\"data row3 col2\" >Master</td>\n",
       "      <td id=\"T_17392_row3_col3\" class=\"data row3 col3\" >Together</td>\n",
       "      <td id=\"T_17392_row3_col4\" class=\"data row3 col4\" >69245.000000</td>\n",
       "      <td id=\"T_17392_row3_col5\" class=\"data row3 col5\" >0</td>\n",
       "      <td id=\"T_17392_row3_col6\" class=\"data row3 col6\" >1</td>\n",
       "      <td id=\"T_17392_row3_col7\" class=\"data row3 col7\" >24-01-2014</td>\n",
       "      <td id=\"T_17392_row3_col8\" class=\"data row3 col8\" >8</td>\n",
       "      <td id=\"T_17392_row3_col9\" class=\"data row3 col9\" >428</td>\n",
       "      <td id=\"T_17392_row3_col10\" class=\"data row3 col10\" >30</td>\n",
       "      <td id=\"T_17392_row3_col11\" class=\"data row3 col11\" >214</td>\n",
       "      <td id=\"T_17392_row3_col12\" class=\"data row3 col12\" >80</td>\n",
       "      <td id=\"T_17392_row3_col13\" class=\"data row3 col13\" >30</td>\n",
       "      <td id=\"T_17392_row3_col14\" class=\"data row3 col14\" >61</td>\n",
       "      <td id=\"T_17392_row3_col15\" class=\"data row3 col15\" >2</td>\n",
       "      <td id=\"T_17392_row3_col16\" class=\"data row3 col16\" >6</td>\n",
       "      <td id=\"T_17392_row3_col17\" class=\"data row3 col17\" >5</td>\n",
       "      <td id=\"T_17392_row3_col18\" class=\"data row3 col18\" >10</td>\n",
       "      <td id=\"T_17392_row3_col19\" class=\"data row3 col19\" >3</td>\n",
       "      <td id=\"T_17392_row3_col20\" class=\"data row3 col20\" >0</td>\n",
       "      <td id=\"T_17392_row3_col21\" class=\"data row3 col21\" >0</td>\n",
       "      <td id=\"T_17392_row3_col22\" class=\"data row3 col22\" >0</td>\n",
       "      <td id=\"T_17392_row3_col23\" class=\"data row3 col23\" >0</td>\n",
       "      <td id=\"T_17392_row3_col24\" class=\"data row3 col24\" >0</td>\n",
       "      <td id=\"T_17392_row3_col25\" class=\"data row3 col25\" >0</td>\n",
       "      <td id=\"T_17392_row3_col26\" class=\"data row3 col26\" >3</td>\n",
       "      <td id=\"T_17392_row3_col27\" class=\"data row3 col27\" >11</td>\n",
       "      <td id=\"T_17392_row3_col28\" class=\"data row3 col28\" >0</td>\n",
       "    </tr>\n",
       "    <tr>\n",
       "      <th id=\"T_17392_level0_row4\" class=\"row_heading level0 row4\" >2239</th>\n",
       "      <td id=\"T_17392_row4_col0\" class=\"data row4 col0\" >9405</td>\n",
       "      <td id=\"T_17392_row4_col1\" class=\"data row4 col1\" >1954</td>\n",
       "      <td id=\"T_17392_row4_col2\" class=\"data row4 col2\" >PhD</td>\n",
       "      <td id=\"T_17392_row4_col3\" class=\"data row4 col3\" >Married</td>\n",
       "      <td id=\"T_17392_row4_col4\" class=\"data row4 col4\" >52869.000000</td>\n",
       "      <td id=\"T_17392_row4_col5\" class=\"data row4 col5\" >1</td>\n",
       "      <td id=\"T_17392_row4_col6\" class=\"data row4 col6\" >1</td>\n",
       "      <td id=\"T_17392_row4_col7\" class=\"data row4 col7\" >15-10-2012</td>\n",
       "      <td id=\"T_17392_row4_col8\" class=\"data row4 col8\" >40</td>\n",
       "      <td id=\"T_17392_row4_col9\" class=\"data row4 col9\" >84</td>\n",
       "      <td id=\"T_17392_row4_col10\" class=\"data row4 col10\" >3</td>\n",
       "      <td id=\"T_17392_row4_col11\" class=\"data row4 col11\" >61</td>\n",
       "      <td id=\"T_17392_row4_col12\" class=\"data row4 col12\" >2</td>\n",
       "      <td id=\"T_17392_row4_col13\" class=\"data row4 col13\" >1</td>\n",
       "      <td id=\"T_17392_row4_col14\" class=\"data row4 col14\" >21</td>\n",
       "      <td id=\"T_17392_row4_col15\" class=\"data row4 col15\" >3</td>\n",
       "      <td id=\"T_17392_row4_col16\" class=\"data row4 col16\" >3</td>\n",
       "      <td id=\"T_17392_row4_col17\" class=\"data row4 col17\" >1</td>\n",
       "      <td id=\"T_17392_row4_col18\" class=\"data row4 col18\" >4</td>\n",
       "      <td id=\"T_17392_row4_col19\" class=\"data row4 col19\" >7</td>\n",
       "      <td id=\"T_17392_row4_col20\" class=\"data row4 col20\" >0</td>\n",
       "      <td id=\"T_17392_row4_col21\" class=\"data row4 col21\" >0</td>\n",
       "      <td id=\"T_17392_row4_col22\" class=\"data row4 col22\" >0</td>\n",
       "      <td id=\"T_17392_row4_col23\" class=\"data row4 col23\" >0</td>\n",
       "      <td id=\"T_17392_row4_col24\" class=\"data row4 col24\" >0</td>\n",
       "      <td id=\"T_17392_row4_col25\" class=\"data row4 col25\" >0</td>\n",
       "      <td id=\"T_17392_row4_col26\" class=\"data row4 col26\" >3</td>\n",
       "      <td id=\"T_17392_row4_col27\" class=\"data row4 col27\" >11</td>\n",
       "      <td id=\"T_17392_row4_col28\" class=\"data row4 col28\" >1</td>\n",
       "    </tr>\n",
       "  </tbody>\n",
       "</table>\n"
      ],
      "text/plain": [
       "<pandas.io.formats.style.Styler at 0x1e2b5185490>"
      ]
     },
     "execution_count": 27,
     "metadata": {},
     "output_type": "execute_result"
    }
   ],
   "source": [
    "customer.tail().style.background_gradient(cmap='PuBu')"
   ]
  },
  {
   "cell_type": "code",
   "execution_count": null,
   "metadata": {},
   "outputs": [
    {
     "data": {
      "text/plain": [
       "49.109375"
      ]
     },
     "metadata": {},
     "output_type": "display_data"
    }
   ],
   "source": [
    "customer['Recency'].mean()"
   ]
  },
  {
   "cell_type": "markdown",
   "metadata": {},
   "source": [
    "### Describe table"
   ]
  },
  {
   "cell_type": "code",
   "execution_count": 81,
   "metadata": {},
   "outputs": [
    {
     "data": {
      "text/html": [
       "<div>\n",
       "<style scoped>\n",
       "    .dataframe tbody tr th:only-of-type {\n",
       "        vertical-align: middle;\n",
       "    }\n",
       "\n",
       "    .dataframe tbody tr th {\n",
       "        vertical-align: top;\n",
       "    }\n",
       "\n",
       "    .dataframe thead th {\n",
       "        text-align: right;\n",
       "    }\n",
       "</style>\n",
       "<table border=\"1\" class=\"dataframe\">\n",
       "  <thead>\n",
       "    <tr style=\"text-align: right;\">\n",
       "      <th></th>\n",
       "      <th>ID</th>\n",
       "      <th>Year_Birth</th>\n",
       "      <th>Income</th>\n",
       "      <th>Kidhome</th>\n",
       "      <th>Teenhome</th>\n",
       "      <th>Dt_Customer</th>\n",
       "      <th>Recency</th>\n",
       "      <th>MntWines</th>\n",
       "      <th>MntFruits</th>\n",
       "      <th>MntMeatProducts</th>\n",
       "      <th>...</th>\n",
       "      <th>AcceptedCmp3</th>\n",
       "      <th>AcceptedCmp4</th>\n",
       "      <th>AcceptedCmp5</th>\n",
       "      <th>AcceptedCmp1</th>\n",
       "      <th>AcceptedCmp2</th>\n",
       "      <th>Complain</th>\n",
       "      <th>Z_CostContact</th>\n",
       "      <th>Z_Revenue</th>\n",
       "      <th>Response</th>\n",
       "      <th>Total_Children</th>\n",
       "    </tr>\n",
       "  </thead>\n",
       "  <tbody>\n",
       "    <tr>\n",
       "      <th>count</th>\n",
       "      <td>2240.000000</td>\n",
       "      <td>2240.000000</td>\n",
       "      <td>2216.000000</td>\n",
       "      <td>2240.000000</td>\n",
       "      <td>2240.000000</td>\n",
       "      <td>2240</td>\n",
       "      <td>2240.000000</td>\n",
       "      <td>2240.000000</td>\n",
       "      <td>2240.000000</td>\n",
       "      <td>2240.000000</td>\n",
       "      <td>...</td>\n",
       "      <td>2240.000000</td>\n",
       "      <td>2240.000000</td>\n",
       "      <td>2240.000000</td>\n",
       "      <td>2240.000000</td>\n",
       "      <td>2240.000000</td>\n",
       "      <td>2240.000000</td>\n",
       "      <td>2240.0</td>\n",
       "      <td>2240.0</td>\n",
       "      <td>2240.000000</td>\n",
       "      <td>2240.000000</td>\n",
       "    </tr>\n",
       "    <tr>\n",
       "      <th>mean</th>\n",
       "      <td>5592.159821</td>\n",
       "      <td>1968.805804</td>\n",
       "      <td>52247.251354</td>\n",
       "      <td>0.444196</td>\n",
       "      <td>0.506250</td>\n",
       "      <td>2013-07-10 10:01:42.857142784</td>\n",
       "      <td>49.109375</td>\n",
       "      <td>303.935714</td>\n",
       "      <td>26.302232</td>\n",
       "      <td>166.950000</td>\n",
       "      <td>...</td>\n",
       "      <td>0.072768</td>\n",
       "      <td>0.074554</td>\n",
       "      <td>0.072768</td>\n",
       "      <td>0.064286</td>\n",
       "      <td>0.013393</td>\n",
       "      <td>0.009375</td>\n",
       "      <td>3.0</td>\n",
       "      <td>11.0</td>\n",
       "      <td>0.149107</td>\n",
       "      <td>0.950446</td>\n",
       "    </tr>\n",
       "    <tr>\n",
       "      <th>min</th>\n",
       "      <td>0.000000</td>\n",
       "      <td>1893.000000</td>\n",
       "      <td>1730.000000</td>\n",
       "      <td>0.000000</td>\n",
       "      <td>0.000000</td>\n",
       "      <td>2012-07-30 00:00:00</td>\n",
       "      <td>0.000000</td>\n",
       "      <td>0.000000</td>\n",
       "      <td>0.000000</td>\n",
       "      <td>0.000000</td>\n",
       "      <td>...</td>\n",
       "      <td>0.000000</td>\n",
       "      <td>0.000000</td>\n",
       "      <td>0.000000</td>\n",
       "      <td>0.000000</td>\n",
       "      <td>0.000000</td>\n",
       "      <td>0.000000</td>\n",
       "      <td>3.0</td>\n",
       "      <td>11.0</td>\n",
       "      <td>0.000000</td>\n",
       "      <td>0.000000</td>\n",
       "    </tr>\n",
       "    <tr>\n",
       "      <th>25%</th>\n",
       "      <td>2828.250000</td>\n",
       "      <td>1959.000000</td>\n",
       "      <td>35303.000000</td>\n",
       "      <td>0.000000</td>\n",
       "      <td>0.000000</td>\n",
       "      <td>2013-01-16 00:00:00</td>\n",
       "      <td>24.000000</td>\n",
       "      <td>23.750000</td>\n",
       "      <td>1.000000</td>\n",
       "      <td>16.000000</td>\n",
       "      <td>...</td>\n",
       "      <td>0.000000</td>\n",
       "      <td>0.000000</td>\n",
       "      <td>0.000000</td>\n",
       "      <td>0.000000</td>\n",
       "      <td>0.000000</td>\n",
       "      <td>0.000000</td>\n",
       "      <td>3.0</td>\n",
       "      <td>11.0</td>\n",
       "      <td>0.000000</td>\n",
       "      <td>0.000000</td>\n",
       "    </tr>\n",
       "    <tr>\n",
       "      <th>50%</th>\n",
       "      <td>5458.500000</td>\n",
       "      <td>1970.000000</td>\n",
       "      <td>51381.500000</td>\n",
       "      <td>0.000000</td>\n",
       "      <td>0.000000</td>\n",
       "      <td>2013-07-08 12:00:00</td>\n",
       "      <td>49.000000</td>\n",
       "      <td>173.500000</td>\n",
       "      <td>8.000000</td>\n",
       "      <td>67.000000</td>\n",
       "      <td>...</td>\n",
       "      <td>0.000000</td>\n",
       "      <td>0.000000</td>\n",
       "      <td>0.000000</td>\n",
       "      <td>0.000000</td>\n",
       "      <td>0.000000</td>\n",
       "      <td>0.000000</td>\n",
       "      <td>3.0</td>\n",
       "      <td>11.0</td>\n",
       "      <td>0.000000</td>\n",
       "      <td>1.000000</td>\n",
       "    </tr>\n",
       "    <tr>\n",
       "      <th>75%</th>\n",
       "      <td>8427.750000</td>\n",
       "      <td>1977.000000</td>\n",
       "      <td>68522.000000</td>\n",
       "      <td>1.000000</td>\n",
       "      <td>1.000000</td>\n",
       "      <td>2013-12-30 06:00:00</td>\n",
       "      <td>74.000000</td>\n",
       "      <td>504.250000</td>\n",
       "      <td>33.000000</td>\n",
       "      <td>232.000000</td>\n",
       "      <td>...</td>\n",
       "      <td>0.000000</td>\n",
       "      <td>0.000000</td>\n",
       "      <td>0.000000</td>\n",
       "      <td>0.000000</td>\n",
       "      <td>0.000000</td>\n",
       "      <td>0.000000</td>\n",
       "      <td>3.0</td>\n",
       "      <td>11.0</td>\n",
       "      <td>0.000000</td>\n",
       "      <td>1.000000</td>\n",
       "    </tr>\n",
       "    <tr>\n",
       "      <th>max</th>\n",
       "      <td>11191.000000</td>\n",
       "      <td>1996.000000</td>\n",
       "      <td>666666.000000</td>\n",
       "      <td>2.000000</td>\n",
       "      <td>2.000000</td>\n",
       "      <td>2014-06-29 00:00:00</td>\n",
       "      <td>99.000000</td>\n",
       "      <td>1493.000000</td>\n",
       "      <td>199.000000</td>\n",
       "      <td>1725.000000</td>\n",
       "      <td>...</td>\n",
       "      <td>1.000000</td>\n",
       "      <td>1.000000</td>\n",
       "      <td>1.000000</td>\n",
       "      <td>1.000000</td>\n",
       "      <td>1.000000</td>\n",
       "      <td>1.000000</td>\n",
       "      <td>3.0</td>\n",
       "      <td>11.0</td>\n",
       "      <td>1.000000</td>\n",
       "      <td>3.000000</td>\n",
       "    </tr>\n",
       "    <tr>\n",
       "      <th>std</th>\n",
       "      <td>3246.662198</td>\n",
       "      <td>11.984069</td>\n",
       "      <td>25173.076661</td>\n",
       "      <td>0.538398</td>\n",
       "      <td>0.544538</td>\n",
       "      <td>NaN</td>\n",
       "      <td>28.962453</td>\n",
       "      <td>336.597393</td>\n",
       "      <td>39.773434</td>\n",
       "      <td>225.715373</td>\n",
       "      <td>...</td>\n",
       "      <td>0.259813</td>\n",
       "      <td>0.262728</td>\n",
       "      <td>0.259813</td>\n",
       "      <td>0.245316</td>\n",
       "      <td>0.114976</td>\n",
       "      <td>0.096391</td>\n",
       "      <td>0.0</td>\n",
       "      <td>0.0</td>\n",
       "      <td>0.356274</td>\n",
       "      <td>0.751803</td>\n",
       "    </tr>\n",
       "  </tbody>\n",
       "</table>\n",
       "<p>8 rows × 28 columns</p>\n",
       "</div>"
      ],
      "text/plain": [
       "                 ID   Year_Birth         Income      Kidhome     Teenhome  \\\n",
       "count   2240.000000  2240.000000    2216.000000  2240.000000  2240.000000   \n",
       "mean    5592.159821  1968.805804   52247.251354     0.444196     0.506250   \n",
       "min        0.000000  1893.000000    1730.000000     0.000000     0.000000   \n",
       "25%     2828.250000  1959.000000   35303.000000     0.000000     0.000000   \n",
       "50%     5458.500000  1970.000000   51381.500000     0.000000     0.000000   \n",
       "75%     8427.750000  1977.000000   68522.000000     1.000000     1.000000   \n",
       "max    11191.000000  1996.000000  666666.000000     2.000000     2.000000   \n",
       "std     3246.662198    11.984069   25173.076661     0.538398     0.544538   \n",
       "\n",
       "                         Dt_Customer      Recency     MntWines    MntFruits  \\\n",
       "count                           2240  2240.000000  2240.000000  2240.000000   \n",
       "mean   2013-07-10 10:01:42.857142784    49.109375   303.935714    26.302232   \n",
       "min              2012-07-30 00:00:00     0.000000     0.000000     0.000000   \n",
       "25%              2013-01-16 00:00:00    24.000000    23.750000     1.000000   \n",
       "50%              2013-07-08 12:00:00    49.000000   173.500000     8.000000   \n",
       "75%              2013-12-30 06:00:00    74.000000   504.250000    33.000000   \n",
       "max              2014-06-29 00:00:00    99.000000  1493.000000   199.000000   \n",
       "std                              NaN    28.962453   336.597393    39.773434   \n",
       "\n",
       "       MntMeatProducts  ...  AcceptedCmp3  AcceptedCmp4  AcceptedCmp5  \\\n",
       "count      2240.000000  ...   2240.000000   2240.000000   2240.000000   \n",
       "mean        166.950000  ...      0.072768      0.074554      0.072768   \n",
       "min           0.000000  ...      0.000000      0.000000      0.000000   \n",
       "25%          16.000000  ...      0.000000      0.000000      0.000000   \n",
       "50%          67.000000  ...      0.000000      0.000000      0.000000   \n",
       "75%         232.000000  ...      0.000000      0.000000      0.000000   \n",
       "max        1725.000000  ...      1.000000      1.000000      1.000000   \n",
       "std         225.715373  ...      0.259813      0.262728      0.259813   \n",
       "\n",
       "       AcceptedCmp1  AcceptedCmp2     Complain  Z_CostContact  Z_Revenue  \\\n",
       "count   2240.000000   2240.000000  2240.000000         2240.0     2240.0   \n",
       "mean       0.064286      0.013393     0.009375            3.0       11.0   \n",
       "min        0.000000      0.000000     0.000000            3.0       11.0   \n",
       "25%        0.000000      0.000000     0.000000            3.0       11.0   \n",
       "50%        0.000000      0.000000     0.000000            3.0       11.0   \n",
       "75%        0.000000      0.000000     0.000000            3.0       11.0   \n",
       "max        1.000000      1.000000     1.000000            3.0       11.0   \n",
       "std        0.245316      0.114976     0.096391            0.0        0.0   \n",
       "\n",
       "          Response  Total_Children  \n",
       "count  2240.000000     2240.000000  \n",
       "mean      0.149107        0.950446  \n",
       "min       0.000000        0.000000  \n",
       "25%       0.000000        0.000000  \n",
       "50%       0.000000        1.000000  \n",
       "75%       0.000000        1.000000  \n",
       "max       1.000000        3.000000  \n",
       "std       0.356274        0.751803  \n",
       "\n",
       "[8 rows x 28 columns]"
      ]
     },
     "execution_count": 81,
     "metadata": {},
     "output_type": "execute_result"
    }
   ],
   "source": [
    "customer.describe()"
   ]
  },
  {
   "cell_type": "markdown",
   "metadata": {},
   "source": [
    "## Get more information about columns"
   ]
  },
  {
   "cell_type": "markdown",
   "metadata": {},
   "source": [
    "### Information about year of birth **(Year_Birth)**"
   ]
  },
  {
   "cell_type": "code",
   "execution_count": 33,
   "metadata": {},
   "outputs": [
    {
     "data": {
      "text/plain": [
       "1893"
      ]
     },
     "execution_count": 33,
     "metadata": {},
     "output_type": "execute_result"
    }
   ],
   "source": [
    "customer.Year_Birth.min()"
   ]
  },
  {
   "cell_type": "code",
   "execution_count": 30,
   "metadata": {},
   "outputs": [
    {
     "data": {
      "text/plain": [
       "1996"
      ]
     },
     "execution_count": 30,
     "metadata": {},
     "output_type": "execute_result"
    }
   ],
   "source": [
    "customer.Year_Birth.max()"
   ]
  },
  {
   "cell_type": "markdown",
   "metadata": {},
   "source": [
    "### Information about **Education**"
   ]
  },
  {
   "cell_type": "code",
   "execution_count": 31,
   "metadata": {},
   "outputs": [
    {
     "data": {
      "text/plain": [
       "array(['Graduation', 'PhD', 'Master', 'Basic', '2n Cycle'], dtype=object)"
      ]
     },
     "execution_count": 31,
     "metadata": {},
     "output_type": "execute_result"
    }
   ],
   "source": [
    "customer.Education.unique()"
   ]
  },
  {
   "cell_type": "markdown",
   "metadata": {},
   "source": [
    "### Information about marital status **(Marital_Status)**"
   ]
  },
  {
   "cell_type": "code",
   "execution_count": 32,
   "metadata": {},
   "outputs": [
    {
     "data": {
      "text/plain": [
       "array(['Single', 'Together', 'Married', 'Divorced', 'Widow', 'Alone',\n",
       "       'Absurd', 'YOLO'], dtype=object)"
      ]
     },
     "execution_count": 32,
     "metadata": {},
     "output_type": "execute_result"
    }
   ],
   "source": [
    "customer.Marital_Status.unique()"
   ]
  },
  {
   "cell_type": "markdown",
   "metadata": {},
   "source": [
    "### Information about number of kids at home **(Kidhome)**"
   ]
  },
  {
   "cell_type": "code",
   "execution_count": 34,
   "metadata": {},
   "outputs": [
    {
     "data": {
      "text/plain": [
       "array([0, 1, 2], dtype=int64)"
      ]
     },
     "execution_count": 34,
     "metadata": {},
     "output_type": "execute_result"
    }
   ],
   "source": [
    "customer.Kidhome.unique()"
   ]
  },
  {
   "cell_type": "markdown",
   "metadata": {},
   "source": [
    "### Information about number of teenagers at home **(Teenhome)**"
   ]
  },
  {
   "cell_type": "code",
   "execution_count": 37,
   "metadata": {},
   "outputs": [
    {
     "data": {
      "text/plain": [
       "array([0, 1, 2], dtype=int64)"
      ]
     },
     "execution_count": 37,
     "metadata": {},
     "output_type": "execute_result"
    }
   ],
   "source": [
    "customer.Teenhome.unique()"
   ]
  },
  {
   "cell_type": "markdown",
   "metadata": {},
   "source": [
    "### Calculating the total number of children **(Total_Children)**"
   ]
  },
  {
   "cell_type": "code",
   "execution_count": 38,
   "metadata": {},
   "outputs": [],
   "source": [
    "customer['Total_Children'] = customer['Kidhome'] + customer['Teenhome']"
   ]
  },
  {
   "cell_type": "code",
   "execution_count": 43,
   "metadata": {},
   "outputs": [
    {
     "data": {
      "text/plain": [
       "array([0, 2, 1, 3], dtype=int64)"
      ]
     },
     "execution_count": 43,
     "metadata": {},
     "output_type": "execute_result"
    }
   ],
   "source": [
    "customer['Total_Children'].unique()"
   ]
  },
  {
   "cell_type": "markdown",
   "metadata": {},
   "source": [
    "### Information about customer enrollment **(Dt_Customer)**"
   ]
  },
  {
   "cell_type": "code",
   "execution_count": 87,
   "metadata": {},
   "outputs": [],
   "source": [
    "customer['Dt_Customer'] = pd.to_datetime(customer['Dt_Customer'], format='%d-%m-%Y')"
   ]
  },
  {
   "cell_type": "code",
   "execution_count": 73,
   "metadata": {},
   "outputs": [
    {
     "data": {
      "text/plain": [
       "Timestamp('2012-07-30 00:00:00')"
      ]
     },
     "execution_count": 73,
     "metadata": {},
     "output_type": "execute_result"
    }
   ],
   "source": [
    "customer['Dt_Customer'].min()"
   ]
  },
  {
   "cell_type": "code",
   "execution_count": 74,
   "metadata": {},
   "outputs": [
    {
     "data": {
      "text/plain": [
       "Timestamp('2014-06-29 00:00:00')"
      ]
     },
     "execution_count": 74,
     "metadata": {},
     "output_type": "execute_result"
    }
   ],
   "source": [
    "customer['Dt_Customer'].max()"
   ]
  },
  {
   "cell_type": "markdown",
   "metadata": {},
   "source": [
    "### Information about last purchase **(Recency)**"
   ]
  },
  {
   "cell_type": "code",
   "execution_count": 75,
   "metadata": {},
   "outputs": [
    {
     "data": {
      "text/plain": [
       "0"
      ]
     },
     "execution_count": 75,
     "metadata": {},
     "output_type": "execute_result"
    }
   ],
   "source": [
    "customer['Recency'].min()"
   ]
  },
  {
   "cell_type": "code",
   "execution_count": 76,
   "metadata": {},
   "outputs": [
    {
     "data": {
      "text/plain": [
       "99"
      ]
     },
     "execution_count": 76,
     "metadata": {},
     "output_type": "execute_result"
    }
   ],
   "source": [
    "customer['Recency'].max()"
   ]
  },
  {
   "cell_type": "code",
   "execution_count": 77,
   "metadata": {},
   "outputs": [
    {
     "data": {
      "text/plain": [
       "49.109375"
      ]
     },
     "execution_count": 77,
     "metadata": {},
     "output_type": "execute_result"
    }
   ],
   "source": [
    "customer['Recency'].mean()"
   ]
  },
  {
   "cell_type": "code",
   "execution_count": 78,
   "metadata": {},
   "outputs": [
    {
     "data": {
      "text/plain": [
       "49.0"
      ]
     },
     "execution_count": 78,
     "metadata": {},
     "output_type": "execute_result"
    }
   ],
   "source": [
    "customer['Recency'].median()"
   ]
  },
  {
   "cell_type": "markdown",
   "metadata": {},
   "source": [
    "# Start analysing data"
   ]
  },
  {
   "cell_type": "code",
   "execution_count": null,
   "metadata": {},
   "outputs": [],
   "source": []
  }
 ],
 "metadata": {
  "kernelspec": {
   "display_name": "Python 3",
   "language": "python",
   "name": "python3"
  },
  "language_info": {
   "codemirror_mode": {
    "name": "ipython",
    "version": 3
   },
   "file_extension": ".py",
   "mimetype": "text/x-python",
   "name": "python",
   "nbconvert_exporter": "python",
   "pygments_lexer": "ipython3",
   "version": "3.12.1"
  }
 },
 "nbformat": 4,
 "nbformat_minor": 2
}
